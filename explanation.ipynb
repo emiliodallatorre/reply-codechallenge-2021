{
  "cells": [
    {
      "cell_type": "markdown",
      "metadata": {
        "id": "view-in-github",
        "colab_type": "text"
      },
      "source": [
        "<a href=\"https://colab.research.google.com/github/emiliodallatorre/reply-codechallenge-2021/blob/main/explanation.ipynb\" target=\"_parent\"><img src=\"https://colab.research.google.com/assets/colab-badge.svg\" alt=\"Open In Colab\"/></a>"
      ]
    },
    {
      "cell_type": "markdown",
      "source": [
        "# Reply Code Challenge 2021 - \"Build the Sky Highway\"\n",
        "\n",
        "This is a solution to the Reply Code Challenge 2021, which is a competition to build an algorithm to place 5G antennas on a map of a city. The goal is to maximize the results following what explained in the [challenge definition file](https://github.com/emiliodallatorre/reply-codechallenge-2021/blob/main/code-challenge-2021.pdf).\n",
        "\n",
        "The solution is based on a genetic algorithm, which is a metaheuristic inspired by the process of natural selection that belongs to the larger class of evolutionary algorithms. Genetic algorithms are commonly used to generate high-quality solutions to optimization and search problems by relying on bio-inspired operators such as mutation, crossover and selection.\n",
        "\n",
        "Let's start by importing the libraries we will need."
      ],
      "metadata": {
        "collapsed": false,
        "id": "t5SRg7DEIkze"
      }
    },
    {
      "cell_type": "code",
      "execution_count": null,
      "outputs": [],
      "source": [
        "from random import random, randint\n",
        "\n",
        "from matplotlib import pyplot as plt\n",
        "from tqdm import tqdm"
      ],
      "metadata": {
        "id": "B2XXlAK1Ikzg"
      }
    },
    {
      "cell_type": "markdown",
      "source": [
        "## Reading the input file\n",
        "\n",
        "The input file contains a complete source set of information about the buildings positions and the information about antennas."
      ],
      "metadata": {
        "collapsed": false,
        "id": "2tMTDm7FIkzh"
      }
    },
    {
      "cell_type": "code",
      "execution_count": null,
      "outputs": [],
      "source": [
        "input_file: str = \"data/data_scenarios_b_mumbai.in\"\n",
        "\n",
        "grid_size: tuple\n",
        "\n",
        "buildings_count: int\n",
        "antennas_count: int\n",
        "reward: int\n",
        "\n",
        "buildings_positions: list = []\n",
        "buildings_latency_score: list = []\n",
        "buildings_speed_score: list = []\n",
        "\n",
        "antennas_positions: list = []\n",
        "antennas_ids: list = []\n",
        "antennas_speeds: list = []\n",
        "antennas_range: list = []\n",
        "\n",
        "with open(input_file, \"r\") as f:\n",
        "    grid_size = tuple(map(int, f.readline().split(\" \")))\n",
        "    buildings_count, antennas_count, reward = tuple(map(int, f.readline().split(\" \")))\n",
        "\n",
        "    for i in range(buildings_count):\n",
        "        x, y, l, c = tuple(map(int, f.readline().split(\" \")))\n",
        "        buildings_positions.append((x, y))\n",
        "        buildings_latency_score.append(l)\n",
        "        buildings_speed_score.append(c)\n",
        "\n",
        "    for i in range(antennas_count):\n",
        "        r, s = tuple(map(int, f.readline().split(\" \")))\n",
        "        antennas_speeds.append(s)\n",
        "        antennas_range.append(r)"
      ],
      "metadata": {
        "id": "pA1pnCVuIkzh"
      }
    },
    {
      "cell_type": "markdown",
      "source": [
        "As we have read all the information, it now comes to processing them to place the antennas in the best possible way. As we want to approach the problem with a genetic algorithm, we first start by removing the cells that will not be meaningful for the resolution.\n",
        "\n",
        "To start, we remove all the cells in which, if we'd place an antenna, it would not be able to reach any building. We start with a constructive approach, accepting all the cells that are at a distance from a building less than the maximum range of the antennas."
      ],
      "metadata": {
        "collapsed": false,
        "id": "jOTcPA_bIkzi"
      }
    },
    {
      "cell_type": "code",
      "execution_count": null,
      "outputs": [
        {
          "name": "stderr",
          "output_type": "stream",
          "text": [
            "Selecting meaningful positions: 100%|██████████| 5/5 [00:00<00:00, 14453.15it/s]\n"
          ]
        }
      ],
      "source": [
        "def get_distance(a: tuple, b: tuple) -> int:\n",
        "    return abs(a[0] - b[0]) + abs(a[1] - b[1])\n",
        "\n",
        "\n",
        "max_antenna_range: int = max(antennas_range)\n",
        "meaningful_positions: set = set()\n",
        "for building_position in tqdm(buildings_positions, desc=\"Selecting meaningful positions\"):\n",
        "    for x in range(building_position[0] - max_antenna_range, building_position[0] + max_antenna_range):\n",
        "        max_y: int = abs(building_position[0] + max_antenna_range - x)\n",
        "\n",
        "        for y in range(-max_y + building_position[1], max_y + building_position[1] + 1):\n",
        "            if get_distance(building_position, (x, y)) <= max_antenna_range:\n",
        "                meaningful_positions.add((x, y))\n",
        "meaningful_positions: list = list(meaningful_positions)"
      ],
      "metadata": {
        "id": "OXMS9LvYIkzi",
        "outputId": "c21a8f2a-254a-4cf0-c43a-09ed66bd507d"
      }
    },
    {
      "cell_type": "markdown",
      "source": [
        "Now, we can start with the genetic algorithm.\n",
        "\n",
        "## Genetic algorithm\n",
        "\n",
        "A genetic algorithm is a type of optimization algorithm that mimics the process of natural selection. It is commonly used to solve complex problems by generating a population of possible solutions and then iteratively evolving them towards better solutions.\n",
        "\n",
        "We start by defining some useful functions that will be used in the algorithm. The first one is the `get_score` function, which takes as input the individual and returns the score of the individual. The score is calculated as the sum of the latency score and the speed score of the buildings that are covered by the antennas."
      ],
      "metadata": {
        "collapsed": false,
        "id": "TxgZqVuPIkzj"
      }
    },
    {
      "cell_type": "code",
      "execution_count": null,
      "outputs": [],
      "source": [
        "def get_score(buildings_positions: list, antennas_positions: list, buildings_speed_score: list,\n",
        "              buildings_latency_score: list, antennas_range: list, antennas_speeds: list, reward: int) -> int:\n",
        "    score: int = 0\n",
        "    are_all_buildings_connected: bool = True\n",
        "\n",
        "    for building_index, building_position in enumerate(buildings_positions):\n",
        "        connected_antennas_ids: list = []\n",
        "        connected_antennas_distances: list = []\n",
        "\n",
        "        for antenna_index, antenna_position in enumerate(antennas_positions):\n",
        "            distance: int = get_distance(building_position, antenna_position)\n",
        "            if distance <= antennas_range[antenna_index]:\n",
        "                connected_antennas_ids.append(antenna_index)\n",
        "                connected_antennas_distances.append(distance)\n",
        "\n",
        "        if len(connected_antennas_ids) > 0:\n",
        "            max_connection_score: int = 0\n",
        "\n",
        "            for connected_antennas_index, antenna_id in enumerate(connected_antennas_ids):\n",
        "                connection_score: int = buildings_speed_score[building_index] * antennas_speeds[\n",
        "                    antenna_id] - buildings_latency_score[building_index] * connected_antennas_distances[\n",
        "                                            connected_antennas_index]\n",
        "\n",
        "                if connection_score > max_connection_score:\n",
        "                    max_connection_score = connection_score\n",
        "\n",
        "            score += max_connection_score\n",
        "        else:\n",
        "            are_all_buildings_connected = False\n",
        "\n",
        "    score += reward if are_all_buildings_connected else 0\n",
        "\n",
        "    return score"
      ],
      "metadata": {
        "id": "M0sG_CDcIkzk"
      }
    },
    {
      "cell_type": "markdown",
      "source": [
        "This function will permit us to get a score for each individual. This will be used to select the best individuals to breed for the next generation.\n",
        "\n",
        "We now go to defining the `crossover` function. This function takes as input two individuals and returns two children. The crossover is done by selecting a random point in the individual and swapping the genes after that point. The mutation is done by selecting a random point in the individual and swapping the gene at that point with a random gene from the meaningful positions.\n",
        "\n",
        "We also define the `mutate` function, which takes as input an individual and returns the individual with a random gene swapped with a random gene from the meaningful positions."
      ],
      "metadata": {
        "collapsed": false,
        "id": "ba8T8JlxIkzk"
      }
    },
    {
      "cell_type": "code",
      "execution_count": null,
      "outputs": [],
      "source": [
        "def crossover(parent_1: list, parent_2: list, meaningful_positions: list, mutation_rate: float) -> list:\n",
        "    crossover_point: int = randint(0, len(parent_1) - 1)\n",
        "\n",
        "    child_1: list = parent_1[:crossover_point] + parent_2[crossover_point:]\n",
        "    child_2: list = parent_2[:crossover_point] + parent_1[crossover_point:]\n",
        "\n",
        "    if random() < mutation_rate:\n",
        "        child_1 = mutate(child_1, meaningful_positions)\n",
        "        child_2 = mutate(child_2, meaningful_positions)\n",
        "\n",
        "    return [parent_1, parent_2, child_1, child_2]\n",
        "\n",
        "\n",
        "def mutate(individual: list, meaningful_positions: list) -> list:\n",
        "    mutation_point: int = randint(0, len(individual) - 1)\n",
        "    individual[mutation_point] = meaningful_positions[randint(0, len(meaningful_positions) - 1)]\n",
        "\n",
        "    return individual"
      ],
      "metadata": {
        "id": "YkeSGI6UIkzl"
      }
    },
    {
      "cell_type": "markdown",
      "source": [
        "We now define the main function of the genetic algorithm, which is the `evolve` function. This function takes as input the initial population, the number of generations to evolve, the mutation rate and the meaningful positions. It returns the best individual found during the evolution."
      ],
      "metadata": {
        "collapsed": false,
        "id": "l8n7phSWIkzl"
      }
    },
    {
      "cell_type": "code",
      "execution_count": null,
      "outputs": [],
      "source": [
        "def evolve(buildings_positions: list, buildings_speed_score: list,\n",
        "           buildings_latency_score: list, antennas_range: list, antennas_speeds: list, reward: int,\n",
        "           meaningful_positions: list, max_loops: int) -> tuple:\n",
        "    chromosome_length: int = len(antennas_range)\n",
        "    population: list = []\n",
        "\n",
        "    mutation_rate = len(meaningful_positions) / 100\n",
        "    support: list = []\n",
        "    if len(meaningful_positions) > 100:\n",
        "        for i in range(100):\n",
        "            support.append(meaningful_positions.pop(randint(0, len(meaningful_positions) - 1)))\n",
        "\n",
        "    last_individual: list = []\n",
        "    for position in support:\n",
        "        last_individual.append(position)\n",
        "\n",
        "        if len(last_individual) == chromosome_length:\n",
        "            population.append(last_individual)\n",
        "            last_individual = []\n",
        "\n",
        "    if len(last_individual) > 0:\n",
        "        for i in range(chromosome_length - len(last_individual)):\n",
        "            last_individual.append(meaningful_positions[i])\n",
        "\n",
        "        population.append(last_individual)\n",
        "\n",
        "    if len(population) % 2 != 0:\n",
        "        population.append(population[0])\n",
        "\n",
        "    best_fitnesses_by_generation: list = []\n",
        "    for i in tqdm(range(max_loops), desc=\"Genetics\"):\n",
        "        population.sort(key=lambda individual: get_score(buildings_positions, individual, buildings_speed_score,\n",
        "                                                         buildings_latency_score, antennas_range, antennas_speeds,\n",
        "                                                         reward), reverse=True)\n",
        "\n",
        "        if len(population) > 100:\n",
        "            population = population[:len(population) // 2]\n",
        "\n",
        "        best_fitnesses_by_generation.append(get_score(buildings_positions, population[0], buildings_speed_score,\n",
        "                                                      buildings_latency_score, antennas_range, antennas_speeds,\n",
        "                                                      reward))\n",
        "        new_population: list = []\n",
        "\n",
        "        for j in range(0, len(population), 2):\n",
        "            new_population.extend(crossover(population[j], population[j + 1], meaningful_positions, mutation_rate))\n",
        "\n",
        "        population = new_population\n",
        "\n",
        "    return population[0], (range(max_loops), best_fitnesses_by_generation)"
      ],
      "metadata": {
        "id": "5SkiTtKyIkzl"
      }
    },
    {
      "cell_type": "markdown",
      "source": [
        "This function will permit us to evolve the population for a given number of generations. The function will return the best individual found during the evolution and the best fitnesses by generation.\n",
        "\n",
        "Let's try by defining some constants and running the genetic algorithm."
      ],
      "metadata": {
        "collapsed": false,
        "id": "mc5dnN7qIkzm"
      }
    },
    {
      "cell_type": "code",
      "execution_count": null,
      "outputs": [
        {
          "name": "stderr",
          "output_type": "stream",
          "text": [
            "Genetics: 100%|██████████| 1000/1000 [00:01<00:00, 611.14it/s]"
          ]
        },
        {
          "name": "stdout",
          "output_type": "stream",
          "text": [
            "Best score:  9213\n"
          ]
        },
        {
          "name": "stderr",
          "output_type": "stream",
          "text": [
            "\n"
          ]
        }
      ],
      "source": [
        "MAX_LOOPS: int = 1000\n",
        "\n",
        "solution, stats = evolve(buildings_positions, buildings_speed_score, buildings_latency_score, antennas_range,\n",
        "                         antennas_speeds, reward, meaningful_positions, MAX_LOOPS)\n",
        "\n",
        "print(\"Best score: \",\n",
        "      get_score(buildings_positions, solution, buildings_speed_score, buildings_latency_score, antennas_range,\n",
        "                antennas_speeds, reward))"
      ],
      "metadata": {
        "id": "FjJjku5HIkzm",
        "outputId": "f0e99c8b-9ce4-44aa-ec79-accf36901f8d"
      }
    },
    {
      "cell_type": "markdown",
      "source": [
        "We can now plot the best fitnesses by generation. We can see that the algorithm converges to a good solution."
      ],
      "metadata": {
        "collapsed": false,
        "id": "0x_cDNopIkzm"
      }
    },
    {
      "cell_type": "code",
      "execution_count": null,
      "outputs": [
        {
          "data": {
            "text/plain": "<Figure size 640x480 with 1 Axes>",
            "image/png": "[encoded data removed]"
          },
          "metadata": {},
          "output_type": "display_data"
        }
      ],
      "source": [
        "plt.plot(*stats)\n",
        "plt.xlabel(\"Generation\")\n",
        "plt.ylabel(\"Fitness\")\n",
        "plt.show()"
      ],
      "metadata": {
        "id": "9ynQ8tApIkzm",
        "outputId": "5ee5b692-522e-4c45-afb3-e0b10ea12ec6"
      }
    },
    {
      "cell_type": "markdown",
      "source": [
        "We now should try to visualize the function and, if it's meaningful, write it to a file.\n",
        "\n",
        "## Data visualization"
      ],
      "metadata": {
        "collapsed": false,
        "id": "O8uoNEzSIkzn"
      }
    },
    {
      "cell_type": "code",
      "execution_count": null,
      "outputs": [
        {
          "data": {
            "text/plain": "<Figure size 640x480 with 1 Axes>",
            "image/png": "[encoded data removed]"
          },
          "metadata": {},
          "output_type": "display_data"
        }
      ],
      "source": [
        "buildings_positions_x = [building_position[0] for building_position in buildings_positions]\n",
        "buildings_positions_y = [building_position[1] for building_position in buildings_positions]\n",
        "plt.scatter(buildings_positions_x, buildings_positions_y, color=\"red\", label=\"Buildings\", marker=\"s\")\n",
        "\n",
        "antennas_positions_x = [antenna_position[0] for antenna_position in solution]\n",
        "antennas_positions_y = [antenna_position[1] for antenna_position in solution]\n",
        "plt.scatter(antennas_positions_x, antennas_positions_y, color=\"blue\", label=\"Antennas\", marker=\"P\")\n",
        "\n",
        "covered_positions_x: list = []\n",
        "covered_positions_y: list = []\n",
        "for antenna_index, antenna_position in enumerate(solution):\n",
        "    for x in range(antenna_position[0] - antennas_range[antenna_index], antenna_position[0] + antennas_range[\n",
        "        antenna_index] + 1):\n",
        "        max_y: int = antennas_range[antenna_index] - abs(x - antenna_position[0])\n",
        "\n",
        "        for y in range(antenna_position[1] - max_y, antenna_position[1] + max_y + 1):\n",
        "\n",
        "            if (x, y) not in buildings_positions and (x, y) not in antennas_positions:\n",
        "                covered_positions_x.append(x)\n",
        "                covered_positions_y.append(y)\n",
        "\n",
        "    plt.scatter(covered_positions_x, covered_positions_y, color=\"green\", label=\"Covered positions\", marker=\"x\")\n",
        "\n",
        "plt.legend()\n",
        "plt.show()"
      ],
      "metadata": {
        "id": "UhDsi1KeIkzn",
        "outputId": "8d5c8387-9d09-4713-a193-20d40f389ea1"
      }
    },
    {
      "cell_type": "markdown",
      "source": [
        "It's not very meaningful, but we can see that the algorithm has found a good solution. We can now write the solution to a file.\n",
        "\n",
        "## Writing the solution to a file\n",
        "\n",
        "We open a file and write the solution in the correct format."
      ],
      "metadata": {
        "collapsed": false,
        "id": "b_p1cx9QIkzn"
      }
    },
    {
      "cell_type": "code",
      "execution_count": null,
      "outputs": [],
      "source": [
        "with open(input_file.replace(\".in\", \".out\"), \"w\") as f:\n",
        "    f.write(str(len(antennas_ids)) + \"\\n\")\n",
        "    for antenna_id, antenna_position in zip(antennas_ids, solution):\n",
        "        f.write(str(antenna_id) + \" \" + str(antenna_position[0]) + \" \" + str(antenna_position[1]) + \"\\n\")"
      ],
      "metadata": {
        "id": "A2IcTA3bIkzo"
      }
    },
    {
      "cell_type": "markdown",
      "source": [
        "## Conclusion\n",
        "\n",
        "We have seen how to solve the problem using a genetic algorithm. We have seen how to define the fitness function and how to evolve the population. We have also seen how to visualize the solution and write it to a file.\n",
        "\n",
        "We can see that the algorithm converges to a good solution, but it's not very fast. We can try to improve the algorithm by using a better fitness function, by using a better crossover function or by using a better mutation function."
      ],
      "metadata": {
        "collapsed": false,
        "id": "WwyuJ3L6Ikzo"
      }
    }
  ],
  "metadata": {
    "kernelspec": {
      "display_name": "Python 3",
      "language": "python",
      "name": "python3"
    },
    "language_info": {
      "codemirror_mode": {
        "name": "ipython",
        "version": 2
      },
      "file_extension": ".py",
      "mimetype": "text/x-python",
      "name": "python",
      "nbconvert_exporter": "python",
      "pygments_lexer": "ipython2",
      "version": "2.7.6"
    },
    "colab": {
      "provenance": [],
      "include_colab_link": true
    }
  },
  "nbformat": 4,
  "nbformat_minor": 0
}